{
 "cells": [
  {
   "cell_type": "code",
   "execution_count": 1,
   "metadata": {
    "collapsed": true
   },
   "outputs": [],
   "source": [
    "import pandas as pd\n",
    "import numpy as np\n",
    "import scipy as sp\n",
    "import scipy.sparse as sps\n",
    "import scipy.io as io\n",
    "import time\n",
    "from scipy.sparse.linalg import svds\n",
    "from sklearn.preprocessing import normalize"
   ]
  },
  {
   "cell_type": "markdown",
   "metadata": {},
   "source": [
    "### Read needed files"
   ]
  },
  {
   "cell_type": "code",
   "execution_count": 2,
   "metadata": {
    "collapsed": false
   },
   "outputs": [
    {
     "name": "stdout",
     "output_type": "stream",
     "text": [
      "        playlist_id  track_id  interaction\n",
      "770769         7569    162463          1.0\n",
      "925571         7569    421750          1.0\n",
      "912580         7569    795606          1.0\n",
      "852833         7569   1195736          1.0\n",
      "287048         7569   2227105          1.0\n",
      "92449          7569   2634448          1.0\n",
      "519471         7569   2654612          1.0\n",
      "173680         7569   2693660          1.0\n",
      "903004         7569   2861386          1.0\n",
      "863056         7614    415173          1.0\n",
      "278077         7614   1384962          1.0\n",
      "394480         7614   1609224          1.0\n",
      "615615         7614   1614974          1.0\n",
      "328664         7614   1714787          1.0\n",
      "377085         7614   2141817          1.0\n",
      "83840          7614   2285204          1.0\n",
      "574199         7614   3361942          1.0\n",
      "481594         7614   3504896          1.0\n",
      "300753         7614   3711434          1.0\n",
      "775317         7614   3833025          1.0\n"
     ]
    }
   ],
   "source": [
    "# read interactions file\n",
    "train_final = pd.read_csv('../input/train_final.csv', sep = '\\t')\n",
    "train_final['interaction'] = 1.0\n",
    "train_final = train_final.sort_values(['playlist_id', 'track_id'], ascending=[True, True])\n",
    "numberInteractions = train_final.shape[0]\n",
    "print(train_final.iloc[:20,])"
   ]
  },
  {
   "cell_type": "markdown",
   "metadata": {
    "collapsed": true
   },
   "source": [
    "We seperate each column in a seperate list:"
   ]
  },
  {
   "cell_type": "code",
   "execution_count": 3,
   "metadata": {
    "collapsed": false
   },
   "outputs": [
    {
     "name": "stdout",
     "output_type": "stream",
     "text": [
      "[7569, 7569, 7569, 7569, 7569, 7569, 7569, 7569, 7569, 7614]\n",
      "[162463, 421750, 795606, 1195736, 2227105, 2634448, 2654612, 2693660, 2861386, 415173]\n",
      "[1.0, 1.0, 1.0, 1.0, 1.0, 1.0, 1.0, 1.0, 1.0, 1.0]\n"
     ]
    }
   ],
   "source": [
    "playlist_id = list(train_final['playlist_id'])\n",
    "track_id = list(train_final['track_id'])\n",
    "interaction = list(train_final['interaction'])\n",
    "print(playlist_id[:10])\n",
    "print(track_id[:10])\n",
    "print(interaction[:10])"
   ]
  },
  {
   "cell_type": "markdown",
   "metadata": {},
   "source": [
    "Create index mapping for playlist and track IDs"
   ]
  },
  {
   "cell_type": "code",
   "execution_count": 4,
   "metadata": {
    "collapsed": false
   },
   "outputs": [
    {
     "name": "stdout",
     "output_type": "stream",
     "text": [
      "   index_track  track_id\n",
      "0            0       252\n",
      "1            1       360\n",
      "2            2       394\n",
      "3            3       527\n",
      "4            4       667\n",
      "   index_playlist  playlist_id\n",
      "0               0         7569\n",
      "1               1         7614\n",
      "2               2         7641\n",
      "3               3         7692\n",
      "4               4         7816\n"
     ]
    }
   ],
   "source": [
    "playlist_id_unique = list(set(playlist_id))\n",
    "track_id_unique = list(set(track_id))\n",
    "playlist_id_unique.sort()\n",
    "playlist_id_unique = pd.DataFrame(playlist_id_unique)\n",
    "playlist_id_unique.reset_index(level=0, inplace=True)\n",
    "playlist_id_unique.columns = ['index_playlist', 'playlist_id']\n",
    "track_id_unique.sort()\n",
    "track_id_unique = pd.DataFrame(track_id_unique)\n",
    "track_id_unique.reset_index(level=0, inplace=True)\n",
    "track_id_unique.columns = ['index_track', 'track_id']\n",
    "print(track_id_unique.head())\n",
    "print(playlist_id_unique.head())"
   ]
  },
  {
   "cell_type": "code",
   "execution_count": 5,
   "metadata": {
    "collapsed": true
   },
   "outputs": [],
   "source": [
    "numPlaylists = len(playlist_id_unique)\n",
    "numTracks = len(track_id_unique)"
   ]
  },
  {
   "cell_type": "code",
   "execution_count": 6,
   "metadata": {
    "collapsed": false
   },
   "outputs": [
    {
     "data": {
      "text/html": [
       "<div>\n",
       "<style>\n",
       "    .dataframe thead tr:only-child th {\n",
       "        text-align: right;\n",
       "    }\n",
       "\n",
       "    .dataframe thead th {\n",
       "        text-align: left;\n",
       "    }\n",
       "\n",
       "    .dataframe tbody tr th {\n",
       "        vertical-align: top;\n",
       "    }\n",
       "</style>\n",
       "<table border=\"1\" class=\"dataframe\">\n",
       "  <thead>\n",
       "    <tr style=\"text-align: right;\">\n",
       "      <th></th>\n",
       "      <th>playlist_id</th>\n",
       "      <th>track_id</th>\n",
       "      <th>interaction</th>\n",
       "      <th>index_playlist</th>\n",
       "      <th>index_track</th>\n",
       "    </tr>\n",
       "  </thead>\n",
       "  <tbody>\n",
       "    <tr>\n",
       "      <th>0</th>\n",
       "      <td>7569</td>\n",
       "      <td>162463</td>\n",
       "      <td>1.0</td>\n",
       "      <td>0</td>\n",
       "      <td>3484</td>\n",
       "    </tr>\n",
       "    <tr>\n",
       "      <th>87</th>\n",
       "      <td>7569</td>\n",
       "      <td>421750</td>\n",
       "      <td>1.0</td>\n",
       "      <td>0</td>\n",
       "      <td>10864</td>\n",
       "    </tr>\n",
       "    <tr>\n",
       "      <th>116</th>\n",
       "      <td>7569</td>\n",
       "      <td>795606</td>\n",
       "      <td>1.0</td>\n",
       "      <td>0</td>\n",
       "      <td>20062</td>\n",
       "    </tr>\n",
       "    <tr>\n",
       "      <th>125</th>\n",
       "      <td>7569</td>\n",
       "      <td>1195736</td>\n",
       "      <td>1.0</td>\n",
       "      <td>0</td>\n",
       "      <td>29176</td>\n",
       "    </tr>\n",
       "    <tr>\n",
       "      <th>195</th>\n",
       "      <td>7569</td>\n",
       "      <td>2227105</td>\n",
       "      <td>1.0</td>\n",
       "      <td>0</td>\n",
       "      <td>55647</td>\n",
       "    </tr>\n",
       "    <tr>\n",
       "      <th>198</th>\n",
       "      <td>7569</td>\n",
       "      <td>2634448</td>\n",
       "      <td>1.0</td>\n",
       "      <td>0</td>\n",
       "      <td>66029</td>\n",
       "    </tr>\n",
       "    <tr>\n",
       "      <th>241</th>\n",
       "      <td>7569</td>\n",
       "      <td>2654612</td>\n",
       "      <td>1.0</td>\n",
       "      <td>0</td>\n",
       "      <td>66596</td>\n",
       "    </tr>\n",
       "    <tr>\n",
       "      <th>253</th>\n",
       "      <td>7569</td>\n",
       "      <td>2693660</td>\n",
       "      <td>1.0</td>\n",
       "      <td>0</td>\n",
       "      <td>67590</td>\n",
       "    </tr>\n",
       "    <tr>\n",
       "      <th>263</th>\n",
       "      <td>7569</td>\n",
       "      <td>2861386</td>\n",
       "      <td>1.0</td>\n",
       "      <td>0</td>\n",
       "      <td>73675</td>\n",
       "    </tr>\n",
       "    <tr>\n",
       "      <th>298</th>\n",
       "      <td>7614</td>\n",
       "      <td>415173</td>\n",
       "      <td>1.0</td>\n",
       "      <td>1</td>\n",
       "      <td>10624</td>\n",
       "    </tr>\n",
       "    <tr>\n",
       "      <th>343</th>\n",
       "      <td>7614</td>\n",
       "      <td>1384962</td>\n",
       "      <td>1.0</td>\n",
       "      <td>1</td>\n",
       "      <td>34222</td>\n",
       "    </tr>\n",
       "    <tr>\n",
       "      <th>347</th>\n",
       "      <td>7614</td>\n",
       "      <td>1609224</td>\n",
       "      <td>1.0</td>\n",
       "      <td>1</td>\n",
       "      <td>39285</td>\n",
       "    </tr>\n",
       "    <tr>\n",
       "      <th>356</th>\n",
       "      <td>7614</td>\n",
       "      <td>1614974</td>\n",
       "      <td>1.0</td>\n",
       "      <td>1</td>\n",
       "      <td>39451</td>\n",
       "    </tr>\n",
       "    <tr>\n",
       "      <th>363</th>\n",
       "      <td>7614</td>\n",
       "      <td>1714787</td>\n",
       "      <td>1.0</td>\n",
       "      <td>1</td>\n",
       "      <td>42027</td>\n",
       "    </tr>\n",
       "    <tr>\n",
       "      <th>386</th>\n",
       "      <td>7614</td>\n",
       "      <td>2141817</td>\n",
       "      <td>1.0</td>\n",
       "      <td>1</td>\n",
       "      <td>53522</td>\n",
       "    </tr>\n",
       "    <tr>\n",
       "      <th>395</th>\n",
       "      <td>7614</td>\n",
       "      <td>2285204</td>\n",
       "      <td>1.0</td>\n",
       "      <td>1</td>\n",
       "      <td>57342</td>\n",
       "    </tr>\n",
       "    <tr>\n",
       "      <th>637</th>\n",
       "      <td>7614</td>\n",
       "      <td>3361942</td>\n",
       "      <td>1.0</td>\n",
       "      <td>1</td>\n",
       "      <td>87027</td>\n",
       "    </tr>\n",
       "    <tr>\n",
       "      <th>652</th>\n",
       "      <td>7614</td>\n",
       "      <td>3504896</td>\n",
       "      <td>1.0</td>\n",
       "      <td>1</td>\n",
       "      <td>89858</td>\n",
       "    </tr>\n",
       "    <tr>\n",
       "      <th>658</th>\n",
       "      <td>7614</td>\n",
       "      <td>3711434</td>\n",
       "      <td>1.0</td>\n",
       "      <td>1</td>\n",
       "      <td>94875</td>\n",
       "    </tr>\n",
       "    <tr>\n",
       "      <th>670</th>\n",
       "      <td>7614</td>\n",
       "      <td>3833025</td>\n",
       "      <td>1.0</td>\n",
       "      <td>1</td>\n",
       "      <td>97759</td>\n",
       "    </tr>\n",
       "    <tr>\n",
       "      <th>675</th>\n",
       "      <td>7641</td>\n",
       "      <td>251674</td>\n",
       "      <td>1.0</td>\n",
       "      <td>2</td>\n",
       "      <td>6231</td>\n",
       "    </tr>\n",
       "    <tr>\n",
       "      <th>707</th>\n",
       "      <td>7641</td>\n",
       "      <td>257968</td>\n",
       "      <td>1.0</td>\n",
       "      <td>2</td>\n",
       "      <td>6337</td>\n",
       "    </tr>\n",
       "    <tr>\n",
       "      <th>782</th>\n",
       "      <td>7641</td>\n",
       "      <td>813563</td>\n",
       "      <td>1.0</td>\n",
       "      <td>2</td>\n",
       "      <td>20407</td>\n",
       "    </tr>\n",
       "    <tr>\n",
       "      <th>800</th>\n",
       "      <td>7641</td>\n",
       "      <td>1341128</td>\n",
       "      <td>1.0</td>\n",
       "      <td>2</td>\n",
       "      <td>33128</td>\n",
       "    </tr>\n",
       "    <tr>\n",
       "      <th>826</th>\n",
       "      <td>7641</td>\n",
       "      <td>1446467</td>\n",
       "      <td>1.0</td>\n",
       "      <td>2</td>\n",
       "      <td>35493</td>\n",
       "    </tr>\n",
       "    <tr>\n",
       "      <th>845</th>\n",
       "      <td>7641</td>\n",
       "      <td>3502548</td>\n",
       "      <td>1.0</td>\n",
       "      <td>2</td>\n",
       "      <td>89806</td>\n",
       "    </tr>\n",
       "    <tr>\n",
       "      <th>857</th>\n",
       "      <td>7641</td>\n",
       "      <td>3711129</td>\n",
       "      <td>1.0</td>\n",
       "      <td>2</td>\n",
       "      <td>94830</td>\n",
       "    </tr>\n",
       "    <tr>\n",
       "      <th>896</th>\n",
       "      <td>7641</td>\n",
       "      <td>3825235</td>\n",
       "      <td>1.0</td>\n",
       "      <td>2</td>\n",
       "      <td>97544</td>\n",
       "    </tr>\n",
       "    <tr>\n",
       "      <th>899</th>\n",
       "      <td>7692</td>\n",
       "      <td>88210</td>\n",
       "      <td>1.0</td>\n",
       "      <td>3</td>\n",
       "      <td>1566</td>\n",
       "    </tr>\n",
       "    <tr>\n",
       "      <th>909</th>\n",
       "      <td>7692</td>\n",
       "      <td>266898</td>\n",
       "      <td>1.0</td>\n",
       "      <td>3</td>\n",
       "      <td>6575</td>\n",
       "    </tr>\n",
       "    <tr>\n",
       "      <th>...</th>\n",
       "      <td>...</td>\n",
       "      <td>...</td>\n",
       "      <td>...</td>\n",
       "      <td>...</td>\n",
       "      <td>...</td>\n",
       "    </tr>\n",
       "    <tr>\n",
       "      <th>516237</th>\n",
       "      <td>11765404</td>\n",
       "      <td>1035913</td>\n",
       "      <td>1.0</td>\n",
       "      <td>45645</td>\n",
       "      <td>24702</td>\n",
       "    </tr>\n",
       "    <tr>\n",
       "      <th>188053</th>\n",
       "      <td>11765404</td>\n",
       "      <td>1109467</td>\n",
       "      <td>1.0</td>\n",
       "      <td>45645</td>\n",
       "      <td>26990</td>\n",
       "    </tr>\n",
       "    <tr>\n",
       "      <th>923782</th>\n",
       "      <td>11765404</td>\n",
       "      <td>1615270</td>\n",
       "      <td>1.0</td>\n",
       "      <td>45645</td>\n",
       "      <td>39463</td>\n",
       "    </tr>\n",
       "    <tr>\n",
       "      <th>352441</th>\n",
       "      <td>11765404</td>\n",
       "      <td>1913997</td>\n",
       "      <td>1.0</td>\n",
       "      <td>45645</td>\n",
       "      <td>47512</td>\n",
       "    </tr>\n",
       "    <tr>\n",
       "      <th>1027348</th>\n",
       "      <td>11765404</td>\n",
       "      <td>2003154</td>\n",
       "      <td>1.0</td>\n",
       "      <td>45645</td>\n",
       "      <td>49868</td>\n",
       "    </tr>\n",
       "    <tr>\n",
       "      <th>466906</th>\n",
       "      <td>11765404</td>\n",
       "      <td>2364217</td>\n",
       "      <td>1.0</td>\n",
       "      <td>45645</td>\n",
       "      <td>59360</td>\n",
       "    </tr>\n",
       "    <tr>\n",
       "      <th>355897</th>\n",
       "      <td>11765404</td>\n",
       "      <td>2977441</td>\n",
       "      <td>1.0</td>\n",
       "      <td>45645</td>\n",
       "      <td>77356</td>\n",
       "    </tr>\n",
       "    <tr>\n",
       "      <th>304295</th>\n",
       "      <td>11765404</td>\n",
       "      <td>3160104</td>\n",
       "      <td>1.0</td>\n",
       "      <td>45645</td>\n",
       "      <td>82378</td>\n",
       "    </tr>\n",
       "    <tr>\n",
       "      <th>870327</th>\n",
       "      <td>11765404</td>\n",
       "      <td>3386952</td>\n",
       "      <td>1.0</td>\n",
       "      <td>45645</td>\n",
       "      <td>87519</td>\n",
       "    </tr>\n",
       "    <tr>\n",
       "      <th>651273</th>\n",
       "      <td>11765404</td>\n",
       "      <td>3753842</td>\n",
       "      <td>1.0</td>\n",
       "      <td>45645</td>\n",
       "      <td>96020</td>\n",
       "    </tr>\n",
       "    <tr>\n",
       "      <th>484991</th>\n",
       "      <td>11765405</td>\n",
       "      <td>236614</td>\n",
       "      <td>1.0</td>\n",
       "      <td>45646</td>\n",
       "      <td>6021</td>\n",
       "    </tr>\n",
       "    <tr>\n",
       "      <th>152844</th>\n",
       "      <td>11765405</td>\n",
       "      <td>657677</td>\n",
       "      <td>1.0</td>\n",
       "      <td>45646</td>\n",
       "      <td>17385</td>\n",
       "    </tr>\n",
       "    <tr>\n",
       "      <th>377738</th>\n",
       "      <td>11765405</td>\n",
       "      <td>2016269</td>\n",
       "      <td>1.0</td>\n",
       "      <td>45646</td>\n",
       "      <td>50383</td>\n",
       "    </tr>\n",
       "    <tr>\n",
       "      <th>377759</th>\n",
       "      <td>11765405</td>\n",
       "      <td>2420944</td>\n",
       "      <td>1.0</td>\n",
       "      <td>45646</td>\n",
       "      <td>60649</td>\n",
       "    </tr>\n",
       "    <tr>\n",
       "      <th>985482</th>\n",
       "      <td>11765405</td>\n",
       "      <td>3365813</td>\n",
       "      <td>1.0</td>\n",
       "      <td>45646</td>\n",
       "      <td>87184</td>\n",
       "    </tr>\n",
       "    <tr>\n",
       "      <th>720398</th>\n",
       "      <td>11765405</td>\n",
       "      <td>3712161</td>\n",
       "      <td>1.0</td>\n",
       "      <td>45646</td>\n",
       "      <td>94906</td>\n",
       "    </tr>\n",
       "    <tr>\n",
       "      <th>50412</th>\n",
       "      <td>11766293</td>\n",
       "      <td>568472</td>\n",
       "      <td>1.0</td>\n",
       "      <td>45647</td>\n",
       "      <td>15126</td>\n",
       "    </tr>\n",
       "    <tr>\n",
       "      <th>1039884</th>\n",
       "      <td>11766362</td>\n",
       "      <td>89199</td>\n",
       "      <td>1.0</td>\n",
       "      <td>45648</td>\n",
       "      <td>1632</td>\n",
       "    </tr>\n",
       "    <tr>\n",
       "      <th>921631</th>\n",
       "      <td>11766362</td>\n",
       "      <td>261470</td>\n",
       "      <td>1.0</td>\n",
       "      <td>45648</td>\n",
       "      <td>6484</td>\n",
       "    </tr>\n",
       "    <tr>\n",
       "      <th>516213</th>\n",
       "      <td>11766362</td>\n",
       "      <td>394153</td>\n",
       "      <td>1.0</td>\n",
       "      <td>45648</td>\n",
       "      <td>9984</td>\n",
       "    </tr>\n",
       "    <tr>\n",
       "      <th>934532</th>\n",
       "      <td>11766362</td>\n",
       "      <td>512935</td>\n",
       "      <td>1.0</td>\n",
       "      <td>45648</td>\n",
       "      <td>13842</td>\n",
       "    </tr>\n",
       "    <tr>\n",
       "      <th>434524</th>\n",
       "      <td>11766362</td>\n",
       "      <td>732266</td>\n",
       "      <td>1.0</td>\n",
       "      <td>45648</td>\n",
       "      <td>19887</td>\n",
       "    </tr>\n",
       "    <tr>\n",
       "      <th>157916</th>\n",
       "      <td>11766362</td>\n",
       "      <td>881801</td>\n",
       "      <td>1.0</td>\n",
       "      <td>45648</td>\n",
       "      <td>22392</td>\n",
       "    </tr>\n",
       "    <tr>\n",
       "      <th>643656</th>\n",
       "      <td>11766362</td>\n",
       "      <td>1228905</td>\n",
       "      <td>1.0</td>\n",
       "      <td>45648</td>\n",
       "      <td>30378</td>\n",
       "    </tr>\n",
       "    <tr>\n",
       "      <th>821713</th>\n",
       "      <td>11766362</td>\n",
       "      <td>1584166</td>\n",
       "      <td>1.0</td>\n",
       "      <td>45648</td>\n",
       "      <td>38592</td>\n",
       "    </tr>\n",
       "    <tr>\n",
       "      <th>931123</th>\n",
       "      <td>11766362</td>\n",
       "      <td>1865246</td>\n",
       "      <td>1.0</td>\n",
       "      <td>45648</td>\n",
       "      <td>46177</td>\n",
       "    </tr>\n",
       "    <tr>\n",
       "      <th>631731</th>\n",
       "      <td>11766362</td>\n",
       "      <td>2733715</td>\n",
       "      <td>1.0</td>\n",
       "      <td>45648</td>\n",
       "      <td>68753</td>\n",
       "    </tr>\n",
       "    <tr>\n",
       "      <th>641463</th>\n",
       "      <td>11766362</td>\n",
       "      <td>2760410</td>\n",
       "      <td>1.0</td>\n",
       "      <td>45648</td>\n",
       "      <td>69508</td>\n",
       "    </tr>\n",
       "    <tr>\n",
       "      <th>356563</th>\n",
       "      <td>11766362</td>\n",
       "      <td>2826156</td>\n",
       "      <td>1.0</td>\n",
       "      <td>45648</td>\n",
       "      <td>72282</td>\n",
       "    </tr>\n",
       "    <tr>\n",
       "      <th>536668</th>\n",
       "      <td>11766362</td>\n",
       "      <td>3098864</td>\n",
       "      <td>1.0</td>\n",
       "      <td>45648</td>\n",
       "      <td>80959</td>\n",
       "    </tr>\n",
       "  </tbody>\n",
       "</table>\n",
       "<p>1040522 rows × 5 columns</p>\n",
       "</div>"
      ],
      "text/plain": [
       "         playlist_id  track_id  interaction  index_playlist  index_track\n",
       "0               7569    162463          1.0               0         3484\n",
       "87              7569    421750          1.0               0        10864\n",
       "116             7569    795606          1.0               0        20062\n",
       "125             7569   1195736          1.0               0        29176\n",
       "195             7569   2227105          1.0               0        55647\n",
       "198             7569   2634448          1.0               0        66029\n",
       "241             7569   2654612          1.0               0        66596\n",
       "253             7569   2693660          1.0               0        67590\n",
       "263             7569   2861386          1.0               0        73675\n",
       "298             7614    415173          1.0               1        10624\n",
       "343             7614   1384962          1.0               1        34222\n",
       "347             7614   1609224          1.0               1        39285\n",
       "356             7614   1614974          1.0               1        39451\n",
       "363             7614   1714787          1.0               1        42027\n",
       "386             7614   2141817          1.0               1        53522\n",
       "395             7614   2285204          1.0               1        57342\n",
       "637             7614   3361942          1.0               1        87027\n",
       "652             7614   3504896          1.0               1        89858\n",
       "658             7614   3711434          1.0               1        94875\n",
       "670             7614   3833025          1.0               1        97759\n",
       "675             7641    251674          1.0               2         6231\n",
       "707             7641    257968          1.0               2         6337\n",
       "782             7641    813563          1.0               2        20407\n",
       "800             7641   1341128          1.0               2        33128\n",
       "826             7641   1446467          1.0               2        35493\n",
       "845             7641   3502548          1.0               2        89806\n",
       "857             7641   3711129          1.0               2        94830\n",
       "896             7641   3825235          1.0               2        97544\n",
       "899             7692     88210          1.0               3         1566\n",
       "909             7692    266898          1.0               3         6575\n",
       "...              ...       ...          ...             ...          ...\n",
       "516237      11765404   1035913          1.0           45645        24702\n",
       "188053      11765404   1109467          1.0           45645        26990\n",
       "923782      11765404   1615270          1.0           45645        39463\n",
       "352441      11765404   1913997          1.0           45645        47512\n",
       "1027348     11765404   2003154          1.0           45645        49868\n",
       "466906      11765404   2364217          1.0           45645        59360\n",
       "355897      11765404   2977441          1.0           45645        77356\n",
       "304295      11765404   3160104          1.0           45645        82378\n",
       "870327      11765404   3386952          1.0           45645        87519\n",
       "651273      11765404   3753842          1.0           45645        96020\n",
       "484991      11765405    236614          1.0           45646         6021\n",
       "152844      11765405    657677          1.0           45646        17385\n",
       "377738      11765405   2016269          1.0           45646        50383\n",
       "377759      11765405   2420944          1.0           45646        60649\n",
       "985482      11765405   3365813          1.0           45646        87184\n",
       "720398      11765405   3712161          1.0           45646        94906\n",
       "50412       11766293    568472          1.0           45647        15126\n",
       "1039884     11766362     89199          1.0           45648         1632\n",
       "921631      11766362    261470          1.0           45648         6484\n",
       "516213      11766362    394153          1.0           45648         9984\n",
       "934532      11766362    512935          1.0           45648        13842\n",
       "434524      11766362    732266          1.0           45648        19887\n",
       "157916      11766362    881801          1.0           45648        22392\n",
       "643656      11766362   1228905          1.0           45648        30378\n",
       "821713      11766362   1584166          1.0           45648        38592\n",
       "931123      11766362   1865246          1.0           45648        46177\n",
       "631731      11766362   2733715          1.0           45648        68753\n",
       "641463      11766362   2760410          1.0           45648        69508\n",
       "356563      11766362   2826156          1.0           45648        72282\n",
       "536668      11766362   3098864          1.0           45648        80959\n",
       "\n",
       "[1040522 rows x 5 columns]"
      ]
     },
     "execution_count": 6,
     "metadata": {},
     "output_type": "execute_result"
    }
   ],
   "source": [
    "train_intermediate = train_final.merge(playlist_id_unique, how='inner', on='playlist_id')\n",
    "train_index = train_intermediate.merge(track_id_unique, how='inner', on='track_id')\n",
    "train_index = train_index.sort_values(['playlist_id', 'track_id'], ascending=[True, True])\n",
    "train_index"
   ]
  },
  {
   "cell_type": "code",
   "execution_count": 7,
   "metadata": {
    "collapsed": false
   },
   "outputs": [
    {
     "name": "stdout",
     "output_type": "stream",
     "text": [
      "[0, 0, 0, 0, 0, 0, 0, 0, 0, 1]\n",
      "[3484, 10864, 20062, 29176, 55647, 66029, 66596, 67590, 73675, 10624]\n",
      "[1.0, 1.0, 1.0, 1.0, 1.0, 1.0, 1.0, 1.0, 1.0, 1.0]\n"
     ]
    }
   ],
   "source": [
    "index_playlist = list(train_index['index_playlist'])\n",
    "index_track = list(train_index['index_track'])\n",
    "interaction = list(train_index['interaction'])\n",
    "print(index_playlist[:10])\n",
    "print(index_track[:10])\n",
    "print(interaction[:10])"
   ]
  },
  {
   "cell_type": "code",
   "execution_count": 8,
   "metadata": {
    "collapsed": false
   },
   "outputs": [
    {
     "data": {
      "text/plain": [
       "<45649x99999 sparse matrix of type '<class 'numpy.float64'>'\n",
       "\twith 1040522 stored elements in COOrdinate format>"
      ]
     },
     "execution_count": 8,
     "metadata": {},
     "output_type": "execute_result"
    }
   ],
   "source": [
    "URM_all = sps.coo_matrix((interaction, (index_playlist, index_track)))\n",
    "URM_all.tocsr()\n",
    "URM_all"
   ]
  },
  {
   "cell_type": "code",
   "execution_count": null,
   "metadata": {
    "collapsed": false
   },
   "outputs": [],
   "source": [
    "URM = np.zeros(shape=(45649,99999))\n",
    "print(URM.shape)\n",
    "print(URM[0,2])"
   ]
  },
  {
   "cell_type": "code",
   "execution_count": null,
   "metadata": {
    "collapsed": false
   },
   "outputs": [],
   "source": [
    "start_time = time.time()\n",
    "for index, row in train_index.iterrows():\n",
    "    URM[row['index_playlist'], row['index_track']] = row['interaction']\n",
    "print(\"--- %s seconds ---\" % (time.time() - start_time))"
   ]
  },
  {
   "cell_type": "code",
   "execution_count": null,
   "metadata": {
    "collapsed": true
   },
   "outputs": [],
   "source": [
    "mean_URM = np.mean(URM, axis = 1)"
   ]
  },
  {
   "cell_type": "code",
   "execution_count": null,
   "metadata": {
    "collapsed": false
   },
   "outputs": [],
   "source": [
    "mean_URM[:10]\n",
    "mean_URM.shape"
   ]
  },
  {
   "cell_type": "code",
   "execution_count": null,
   "metadata": {
    "collapsed": false
   },
   "outputs": [],
   "source": [
    "demeaned_URM = URM - mean_URM.reshape(-1, 1)"
   ]
  },
  {
   "cell_type": "code",
   "execution_count": null,
   "metadata": {
    "collapsed": false
   },
   "outputs": [],
   "source": [
    "# taking too long\n",
    "start_time = time.time()\n",
    "U, sigma, Vt = svds(demeaned_URM, k = 50)\n",
    "print(\"--- %s seconds ---\" % (time.time() - start_time))"
   ]
  },
  {
   "cell_type": "code",
   "execution_count": null,
   "metadata": {
    "collapsed": true
   },
   "outputs": [],
   "source": [
    "# kernel dies because matrix is not sparse anymore\n",
    "demeaned_URM_all = URM_all - URM_all.mean(axis = 1)"
   ]
  },
  {
   "cell_type": "code",
   "execution_count": 9,
   "metadata": {
    "collapsed": false
   },
   "outputs": [
    {
     "name": "stdout",
     "output_type": "stream",
     "text": [
      "--- 4.0392842292785645 seconds ---\n"
     ]
    }
   ],
   "source": [
    "start_time = time.time()\n",
    "U, s, Vt = svds(URM_all, k = 50)\n",
    "print(\"--- %s seconds ---\" % (time.time() - start_time))"
   ]
  },
  {
   "cell_type": "code",
   "execution_count": 10,
   "metadata": {
    "collapsed": true
   },
   "outputs": [],
   "source": [
    "s_diag = np.diag(s)"
   ]
  },
  {
   "cell_type": "code",
   "execution_count": 11,
   "metadata": {
    "collapsed": false
   },
   "outputs": [
    {
     "data": {
      "text/plain": [
       "(45649, 50)"
      ]
     },
     "execution_count": 11,
     "metadata": {},
     "output_type": "execute_result"
    }
   ],
   "source": [
    "Us = np.dot(U, s_diag)\n",
    "Us.shape"
   ]
  },
  {
   "cell_type": "code",
   "execution_count": 12,
   "metadata": {
    "collapsed": false
   },
   "outputs": [
    {
     "name": "stdout",
     "output_type": "stream",
     "text": [
      "--- 122.29415702819824 seconds ---\n"
     ]
    }
   ],
   "source": [
    "start_time = time.time()\n",
    "URM_estm = np.dot(Us, Vt)\n",
    "print(\"--- %s seconds ---\" % (time.time() - start_time))"
   ]
  },
  {
   "cell_type": "code",
   "execution_count": 15,
   "metadata": {
    "collapsed": false
   },
   "outputs": [
    {
     "name": "stdout",
     "output_type": "stream",
     "text": [
      "(45649, 99999)\n",
      "[[  5.81494202e-05   1.77410812e-05  -2.46214609e-04   6.01678510e-05\n",
      "    5.33451296e-04   1.05360826e-04   1.13592088e-04   7.80126434e-06\n",
      "    3.70764055e-05   6.80325116e-06]\n",
      " [ -3.71196522e-04   9.81899151e-04   2.83356814e-04   9.18600462e-05\n",
      "   -2.30382209e-04  -3.55141076e-04  -1.74383469e-04  -2.95536379e-04\n",
      "   -8.24466316e-04   8.81044619e-05]\n",
      " [  1.84603545e-04  -1.39226204e-04  -9.92982645e-05   4.61793417e-05\n",
      "   -3.52985639e-05   4.18437211e-04  -6.68809021e-05   4.22801439e-04\n",
      "    1.39319761e-04   5.10532905e-05]\n",
      " [  5.71655875e-05   4.66534103e-04  -1.00827194e-04  -7.25278409e-05\n",
      "    2.88187117e-04   2.22843352e-04   1.19197626e-04   1.29410012e-04\n",
      "    5.66197509e-05  -2.84272579e-05]\n",
      " [ -1.53325782e-04   8.49497258e-05  -1.66764096e-05   4.46740507e-05\n",
      "   -1.51105629e-05  -1.36704899e-05   2.92211141e-05  -7.88016852e-05\n",
      "    2.65979904e-05   4.07161985e-05]\n",
      " [  4.06218404e-03  -3.24275523e-04   7.83355342e-05  -4.93838660e-05\n",
      "    4.27323937e-04   2.26179314e-04  -2.95104723e-05  -1.90622946e-05\n",
      "    7.07942147e-06   1.82651864e-04]\n",
      " [ -6.57990620e-07  -1.89662187e-05  -2.18382140e-05   3.73071636e-05\n",
      "    3.72844392e-05   2.01361608e-05  -2.78019020e-06  -1.54345137e-05\n",
      "   -8.73152955e-06  -1.18571513e-05]\n",
      " [  6.83593205e-04   2.52467910e-03   1.31683636e-03  -1.64880407e-04\n",
      "    4.80779724e-04   8.56231781e-04  -1.18130147e-04  -2.83393207e-04\n",
      "    3.24311534e-04   9.12793761e-05]\n",
      " [ -1.10187102e-05   7.05771413e-06   9.31122964e-07   5.40713543e-07\n",
      "    3.58481620e-06  -9.39724930e-07  -1.70668638e-07  -1.59592200e-07\n",
      "   -6.69004598e-07  -4.72477623e-06]\n",
      " [ -1.06796132e-06   8.49559871e-05   3.53454673e-06   1.65316252e-05\n",
      "   -9.04170157e-05   1.95964646e-04  -1.12469638e-05  -6.35547800e-05\n",
      "    3.22349722e-05  -7.75513264e-05]]\n",
      "0.022629553792\n"
     ]
    }
   ],
   "source": [
    "print(URM_estm.shape)\n",
    "print(URM_estm[:10,:10])\n",
    "print(URM_estm[0,:].max())"
   ]
  },
  {
   "cell_type": "markdown",
   "metadata": {},
   "source": [
    "### Find tracks which appear in less than 5 playlists and are not in the target track set"
   ]
  },
  {
   "cell_type": "code",
   "execution_count": null,
   "metadata": {
    "collapsed": false
   },
   "outputs": [],
   "source": []
  },
  {
   "cell_type": "code",
   "execution_count": null,
   "metadata": {
    "collapsed": true
   },
   "outputs": [],
   "source": []
  }
 ],
 "metadata": {
  "kernelspec": {
   "display_name": "Python 3",
   "language": "python",
   "name": "python3"
  },
  "language_info": {
   "codemirror_mode": {
    "name": "ipython",
    "version": 3
   },
   "file_extension": ".py",
   "mimetype": "text/x-python",
   "name": "python",
   "nbconvert_exporter": "python",
   "pygments_lexer": "ipython3",
   "version": "3.6.0"
  }
 },
 "nbformat": 4,
 "nbformat_minor": 2
}
