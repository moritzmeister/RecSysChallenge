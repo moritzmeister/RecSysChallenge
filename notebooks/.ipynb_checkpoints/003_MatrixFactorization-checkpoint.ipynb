{
 "cells": [
  {
   "cell_type": "code",
   "execution_count": null,
   "metadata": {
    "collapsed": true
   },
   "outputs": [],
   "source": [
    "import pandas as pd\n",
    "import numpy as np\n",
    "import scipy as sp\n",
    "import scipy.sparse as sps\n",
    "import scipy.io as io\n",
    "import time\n",
    "from scipy.sparse.linalg import svds\n",
    "from sklearn.preprocessing import normalize"
   ]
  },
  {
   "cell_type": "markdown",
   "metadata": {},
   "source": [
    "### Read needed files"
   ]
  },
  {
   "cell_type": "code",
   "execution_count": null,
   "metadata": {
    "collapsed": false
   },
   "outputs": [],
   "source": [
    "# read interactions file\n",
    "train_final = pd.read_csv('../input/train_final.csv', sep = '\\t')\n",
    "train_final['interaction'] = 1.0\n",
    "train_final = train_final.sort_values(['playlist_id', 'track_id'], ascending=[True, True])\n",
    "numberInteractions = train_final.shape[0]\n",
    "print(train_final.iloc[:20,])"
   ]
  },
  {
   "cell_type": "code",
   "execution_count": null,
   "metadata": {
    "collapsed": false
   },
   "outputs": [],
   "source": [
    "# read target playlists which should receive a recommendation\n",
    "target_playlists = pd.read_csv('../input/target_playlists.csv', sep = '\\t')\n",
    "print(target_playlists.head())\n",
    "print(target_playlists.shape)"
   ]
  },
  {
   "cell_type": "code",
   "execution_count": null,
   "metadata": {
    "collapsed": false
   },
   "outputs": [],
   "source": [
    "# read target tracks\n",
    "target_tracks = list(pd.read_csv('../input/target_tracks.csv', sep = '\\t')['track_id'])\n",
    "target_tracks"
   ]
  },
  {
   "cell_type": "markdown",
   "metadata": {
    "collapsed": true
   },
   "source": [
    "We seperate each column in a seperate list:"
   ]
  },
  {
   "cell_type": "code",
   "execution_count": null,
   "metadata": {
    "collapsed": false
   },
   "outputs": [],
   "source": [
    "playlist_id = list(train_final['playlist_id'])\n",
    "track_id = list(train_final['track_id'])\n",
    "interaction = list(train_final['interaction'])\n",
    "print(playlist_id[:10])\n",
    "print(track_id[:10])\n",
    "print(interaction[:10])"
   ]
  },
  {
   "cell_type": "markdown",
   "metadata": {},
   "source": [
    "Create index mapping for playlist and track IDs"
   ]
  },
  {
   "cell_type": "code",
   "execution_count": null,
   "metadata": {
    "collapsed": false
   },
   "outputs": [],
   "source": [
    "playlist_id_unique = list(set(playlist_id))\n",
    "track_id_unique = list(set(track_id))\n",
    "playlist_id_unique.sort()\n",
    "playlist_id_unique = pd.DataFrame(playlist_id_unique)\n",
    "playlist_id_unique.reset_index(level=0, inplace=True)\n",
    "playlist_id_unique.columns = ['index_playlist', 'playlist_id']\n",
    "track_id_unique.sort()\n",
    "track_id_unique = pd.DataFrame(track_id_unique)\n",
    "track_id_unique.reset_index(level=0, inplace=True)\n",
    "track_id_unique.columns = ['index_track', 'track_id']\n",
    "print(track_id_unique.head())\n",
    "print(playlist_id_unique.head())"
   ]
  },
  {
   "cell_type": "code",
   "execution_count": null,
   "metadata": {
    "collapsed": true
   },
   "outputs": [],
   "source": [
    "numPlaylists = len(playlist_id_unique)\n",
    "numTracks = len(track_id_unique)"
   ]
  },
  {
   "cell_type": "markdown",
   "metadata": {},
   "source": [
    "Translate interaction matrix to new indexes:"
   ]
  },
  {
   "cell_type": "code",
   "execution_count": null,
   "metadata": {
    "collapsed": false
   },
   "outputs": [],
   "source": [
    "train_intermediate = train_final.merge(playlist_id_unique, how='inner', on='playlist_id')\n",
    "train_index = train_intermediate.merge(track_id_unique, how='inner', on='track_id')\n",
    "train_index = train_index.sort_values(['playlist_id', 'track_id'], ascending=[True, True])\n",
    "train_index"
   ]
  },
  {
   "cell_type": "code",
   "execution_count": null,
   "metadata": {
    "collapsed": false
   },
   "outputs": [],
   "source": [
    "index_playlist = list(train_index['index_playlist'])\n",
    "index_track = list(train_index['index_track'])\n",
    "interaction = list(train_index['interaction'])\n",
    "print(index_playlist[:10])\n",
    "print(index_track[:10])\n",
    "print(interaction[:10])"
   ]
  },
  {
   "cell_type": "code",
   "execution_count": null,
   "metadata": {
    "collapsed": false
   },
   "outputs": [],
   "source": [
    "URM_all = sps.coo_matrix((interaction, (index_playlist, index_track)))\n",
    "URM_all.tocsr()\n",
    "URM_all"
   ]
  },
  {
   "cell_type": "code",
   "execution_count": null,
   "metadata": {
    "collapsed": false
   },
   "outputs": [],
   "source": [
    "# calcualte singular value decomposition\n",
    "start_time = time.time()\n",
    "U, s, Vt = svds(URM_all, k = 252)\n",
    "print(\"--- %s seconds ---\" % (time.time() - start_time))"
   ]
  },
  {
   "cell_type": "code",
   "execution_count": null,
   "metadata": {
    "collapsed": true
   },
   "outputs": [],
   "source": [
    "# make diagonal matrix from sigma values\n",
    "s_diag = np.diag(s)"
   ]
  },
  {
   "cell_type": "code",
   "execution_count": null,
   "metadata": {
    "collapsed": false
   },
   "outputs": [],
   "source": [
    "# reconstruct URM matrix as prediction\n",
    "Us = np.dot(U, s_diag)\n",
    "Us.shape"
   ]
  },
  {
   "cell_type": "code",
   "execution_count": null,
   "metadata": {
    "collapsed": false
   },
   "outputs": [],
   "source": [
    "# reconstruct URM matrix as prediction\n",
    "start_time = time.time()\n",
    "URM_estm = np.dot(Us, Vt)\n",
    "print(\"--- %s seconds ---\" % (time.time() - start_time))"
   ]
  },
  {
   "cell_type": "code",
   "execution_count": null,
   "metadata": {
    "collapsed": false
   },
   "outputs": [],
   "source": [
    "# Look at result\n",
    "print(URM_estm.shape)\n",
    "print(URM_estm[:10,:10])\n",
    "print(URM_estm[0,:].max())"
   ]
  },
  {
   "cell_type": "code",
   "execution_count": null,
   "metadata": {
    "collapsed": false
   },
   "outputs": [],
   "source": [
    "# filter interaction dataframe, to retain only target playlists\n",
    "train = train_index.merge(target_playlists, how='inner', on='playlist_id')\n",
    "print(train.shape)\n",
    "print(train['playlist_id'].nunique())"
   ]
  },
  {
   "cell_type": "code",
   "execution_count": null,
   "metadata": {
    "collapsed": false
   },
   "outputs": [],
   "source": [
    "# aggregate to playlist level and coerce tracks in that playlist to list\n",
    "train_agg1 = train.groupby(by='playlist_id').track_id.apply(list).to_frame()\n",
    "train_agg1.reset_index(level=0, inplace=True)\n",
    "train_agg2 = train.groupby(by='playlist_id').index_track.apply(list).to_frame()\n",
    "train_agg2.reset_index(level=0, inplace=True)\n",
    "train_agg = train_agg1.merge(train_agg2, how='inner', on='playlist_id')\n",
    "train_agg = train_agg.merge(playlist_id_unique, how='inner', on='playlist_id')\n",
    "train_agg['recommend'] = np.empty((len(train_agg), 0)).tolist()\n",
    "train_agg"
   ]
  },
  {
   "cell_type": "markdown",
   "metadata": {},
   "source": [
    "### Find tracks to recommend in URM_estm"
   ]
  },
  {
   "cell_type": "code",
   "execution_count": null,
   "metadata": {
    "collapsed": false
   },
   "outputs": [],
   "source": [
    "start_time = time.time()\n",
    "for index, row in train_agg.iterrows():\n",
    "    # get row from URM_estm\n",
    "    estm = pd.DataFrame(URM_estm[row['index_playlist'],:])\n",
    "    estm.reset_index(level=0, inplace=True)\n",
    "    estm.columns = ['index_track','pred']\n",
    "    # filter tracks which are already in the playlist, so they can't be recommended\n",
    "    estm = estm[-estm[\"index_track\"].isin(row['index_track'])]\n",
    "    # translate track index back to track_id\n",
    "    estm = estm.merge(track_id_unique, how='inner', on='index_track')\n",
    "    # filter on target track set\n",
    "    estm = estm[estm['track_id'].isin(target_tracks)]\n",
    "    estm = estm.sort_values('pred',ascending=False)\n",
    "    # print(estm)\n",
    "    count = 1\n",
    "    for index2, row2 in estm.iterrows():\n",
    "        # insert 5 top recommendations into dataframe\n",
    "        if count < 6:\n",
    "            row['recommend'].append(int(row2['track_id']))\n",
    "            count += 1\n",
    "        else:\n",
    "            break\n",
    "print(\"--- %s minutes ---\" % ((time.time() - start_time)/60))"
   ]
  },
  {
   "cell_type": "code",
   "execution_count": null,
   "metadata": {
    "collapsed": false
   },
   "outputs": [],
   "source": [
    "train_agg"
   ]
  },
  {
   "cell_type": "code",
   "execution_count": null,
   "metadata": {
    "collapsed": false
   },
   "outputs": [],
   "source": [
    "train_agg.shape"
   ]
  },
  {
   "cell_type": "code",
   "execution_count": null,
   "metadata": {
    "collapsed": false
   },
   "outputs": [],
   "source": [
    "# Convert list to string with spaces between track_ids\n",
    "train_agg['recommend'] = train_agg['recommend'].apply(lambda x: \" \".join(map(str, x)))"
   ]
  },
  {
   "cell_type": "code",
   "execution_count": null,
   "metadata": {
    "collapsed": false
   },
   "outputs": [],
   "source": [
    "# rename columns for submission\n",
    "final = train_agg[['playlist_id','recommend']]\n",
    "final.columns = ['playlist_id','track_ids']"
   ]
  },
  {
   "cell_type": "code",
   "execution_count": null,
   "metadata": {
    "collapsed": false
   },
   "outputs": [],
   "source": [
    "print(final.head())"
   ]
  },
  {
   "cell_type": "code",
   "execution_count": null,
   "metadata": {
    "collapsed": true
   },
   "outputs": [],
   "source": [
    "# export file\n",
    "final.to_csv('../submission/003_svd_basic_252fac.csv', index=False)"
   ]
  },
  {
   "cell_type": "code",
   "execution_count": null,
   "metadata": {
    "collapsed": true
   },
   "outputs": [],
   "source": []
  }
 ],
 "metadata": {
  "kernelspec": {
   "display_name": "Python 3",
   "language": "python",
   "name": "python3"
  },
  "language_info": {
   "codemirror_mode": {
    "name": "ipython",
    "version": 3
   },
   "file_extension": ".py",
   "mimetype": "text/x-python",
   "name": "python",
   "nbconvert_exporter": "python",
   "pygments_lexer": "ipython3",
   "version": "3.6.0"
  }
 },
 "nbformat": 4,
 "nbformat_minor": 2
}
