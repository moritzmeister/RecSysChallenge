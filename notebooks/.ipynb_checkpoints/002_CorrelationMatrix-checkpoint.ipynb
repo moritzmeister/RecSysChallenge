{
 "cells": [
  {
   "cell_type": "code",
   "execution_count": 21,
   "metadata": {
    "collapsed": true
   },
   "outputs": [],
   "source": [
    "import pandas as pd\n",
    "import numpy as np\n",
    "import scipy.sparse as sp\n",
    "import scipy.io as io"
   ]
  },
  {
   "cell_type": "code",
   "execution_count": 24,
   "metadata": {
    "collapsed": true
   },
   "outputs": [],
   "source": [
    "# function to save a csr sparse matrix\n",
    "def save_sparse_csr(filename,array):\n",
    "    np.savez(filename,data = array.data ,indices=array.indices,\n",
    "             indptr =array.indptr, shape=array.shape )\n",
    "\n",
    "# function to read written csr sparse matrix\n",
    "def load_sparse_csr(filename):\n",
    "    loader = np.load(filename)\n",
    "    return csr_matrix((  loader['data'], loader['indices'], loader['indptr']),\n",
    "                         shape = loader['shape'])"
   ]
  },
  {
   "cell_type": "code",
   "execution_count": 3,
   "metadata": {
    "collapsed": false
   },
   "outputs": [
    {
     "name": "stdout",
     "output_type": "stream",
     "text": [
      "   playlist_id  track_id  value\n",
      "0      3271849   2801526      1\n",
      "1      5616275    727878      1\n",
      "2     11267488   2805283      1\n",
      "3     10103900   1515105      1\n",
      "4      3836898   2945623      1\n",
      "(1040522, 3)\n"
     ]
    }
   ],
   "source": [
    "# read interactions file\n",
    "train_final = pd.read_csv('../input/train_final.csv', sep = '\\t')\n",
    "train_final['value'] = 1\n",
    "print(train_final.head())\n",
    "print(train_final.shape)"
   ]
  },
  {
   "cell_type": "code",
   "execution_count": 8,
   "metadata": {
    "collapsed": false
   },
   "outputs": [],
   "source": [
    "# creater playlist/track interaction matrix. Rows are playlists, each column represents one track.\n",
    "pl_tr_matrix = train_final.pivot(index='playlist_id',columns='track_id', values='value').fillna(0)"
   ]
  },
  {
   "cell_type": "code",
   "execution_count": 9,
   "metadata": {
    "collapsed": false
   },
   "outputs": [
    {
     "name": "stdout",
     "output_type": "stream",
     "text": [
      "track_id     252      360      394      527      667      874      1365     \\\n",
      "playlist_id                                                                  \n",
      "7569             0.0      0.0      0.0      0.0      0.0      0.0      0.0   \n",
      "7614             0.0      0.0      0.0      0.0      0.0      0.0      0.0   \n",
      "7641             0.0      0.0      0.0      0.0      0.0      0.0      0.0   \n",
      "7692             0.0      0.0      0.0      0.0      0.0      0.0      0.0   \n",
      "7816             0.0      0.0      0.0      0.0      0.0      0.0      0.0   \n",
      "\n",
      "track_id     1376     1383     1403      ...     4951581  4955599  4956525  \\\n",
      "playlist_id                              ...                                 \n",
      "7569             0.0      0.0      0.0   ...         0.0      0.0      0.0   \n",
      "7614             0.0      0.0      0.0   ...         0.0      0.0      0.0   \n",
      "7641             0.0      0.0      0.0   ...         0.0      0.0      0.0   \n",
      "7692             0.0      0.0      0.0   ...         0.0      0.0      0.0   \n",
      "7816             0.0      0.0      0.0   ...         0.0      0.0      0.0   \n",
      "\n",
      "track_id     4962358  4962527  4975442  4989086  5007354  5014702  5018274  \n",
      "playlist_id                                                                 \n",
      "7569             0.0      0.0      0.0      0.0      0.0      0.0      0.0  \n",
      "7614             0.0      0.0      0.0      0.0      0.0      0.0      0.0  \n",
      "7641             0.0      0.0      0.0      0.0      0.0      0.0      0.0  \n",
      "7692             0.0      0.0      0.0      0.0      0.0      0.0      0.0  \n",
      "7816             0.0      0.0      0.0      0.0      0.0      0.0      0.0  \n",
      "\n",
      "[5 rows x 99999 columns]\n"
     ]
    }
   ],
   "source": [
    "print(pl_tr_matrix.head())"
   ]
  },
  {
   "cell_type": "code",
   "execution_count": 10,
   "metadata": {
    "collapsed": true
   },
   "outputs": [],
   "source": [
    "# create sparse representation\n",
    "sp_pl_tr = sp.csr_matrix(pl_tr_matrix.values)"
   ]
  },
  {
   "cell_type": "code",
   "execution_count": 11,
   "metadata": {
    "collapsed": false
   },
   "outputs": [
    {
     "data": {
      "text/plain": [
       "<45649x99999 sparse matrix of type '<class 'numpy.float64'>'\n",
       "\twith 1040522 stored elements in Compressed Sparse Row format>"
      ]
     },
     "execution_count": 11,
     "metadata": {},
     "output_type": "execute_result"
    }
   ],
   "source": [
    "sp_pl_tr"
   ]
  },
  {
   "cell_type": "code",
   "execution_count": 19,
   "metadata": {
    "collapsed": false
   },
   "outputs": [],
   "source": [
    "# save the index and order of playlists in the sparse representation\n",
    "pd.DataFrame(pl_tr_matrix.index).to_csv('../output/playlistid_sp_pl_tr.csv', index=False)"
   ]
  },
  {
   "cell_type": "code",
   "execution_count": 20,
   "metadata": {
    "collapsed": true
   },
   "outputs": [],
   "source": [
    "# save the ordering of the tracks as columns\n",
    "pd.DataFrame(pl_tr_matrix.columns).to_csv('../output/trackid_sp_pl_tr.csv', index=False)"
   ]
  },
  {
   "cell_type": "code",
   "execution_count": 22,
   "metadata": {
    "collapsed": true
   },
   "outputs": [],
   "source": [
    "# use internal write function from io library\n",
    "io.mmwrite(\"../output/sp_pl_tr.mtx\", sp_pl_tr)"
   ]
  },
  {
   "cell_type": "code",
   "execution_count": 25,
   "metadata": {
    "collapsed": true
   },
   "outputs": [],
   "source": [
    "# use self defined function\n",
    "save_sparse_csr('../output/sp_pl_tr_v2', sp_pl_tr)\n",
    "\n",
    "# to read simply execute: load_sparse_csr('../output/sp_pl_tr_v2.npz')"
   ]
  }
 ],
 "metadata": {
  "kernelspec": {
   "display_name": "Python 3",
   "language": "python",
   "name": "python3"
  },
  "language_info": {
   "codemirror_mode": {
    "name": "ipython",
    "version": 3
   },
   "file_extension": ".py",
   "mimetype": "text/x-python",
   "name": "python",
   "nbconvert_exporter": "python",
   "pygments_lexer": "ipython3",
   "version": "3.6.0"
  }
 },
 "nbformat": 4,
 "nbformat_minor": 2
}
