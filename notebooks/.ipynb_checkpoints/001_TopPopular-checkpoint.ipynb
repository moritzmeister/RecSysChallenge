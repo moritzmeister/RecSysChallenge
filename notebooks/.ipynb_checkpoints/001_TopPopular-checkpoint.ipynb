{
 "cells": [
  {
   "cell_type": "code",
   "execution_count": 1,
   "metadata": {
    "collapsed": true
   },
   "outputs": [],
   "source": [
    "import pandas as pd\n",
    "import numpy as np"
   ]
  },
  {
   "cell_type": "code",
   "execution_count": 5,
   "metadata": {
    "collapsed": false
   },
   "outputs": [
    {
     "name": "stdout",
     "output_type": "stream",
     "text": [
      "   playlist_id  track_id\n",
      "0      3271849   2801526\n",
      "1      5616275    727878\n",
      "2     11267488   2805283\n",
      "3     10103900   1515105\n",
      "4      3836898   2945623\n",
      "(1040522, 2)\n",
      "   track_id  value\n",
      "0   1316175      1\n",
      "1   3885714      1\n",
      "2   3091270      1\n",
      "3    226759      1\n",
      "4    230596      1\n",
      "(32195, 2)\n"
     ]
    }
   ],
   "source": [
    "train_final = pd.read_csv('../input/train_final.csv', sep = '\\t')\n",
    "print(train_final.head())\n",
    "print(train_final.shape)\n",
    "\n",
    "target_tracks = pd.read_csv('../input/target_tracks.csv', sep = '\\t')\n",
    "target_tracks['value'] = 1\n",
    "print(target_tracks.head())\n",
    "print(target_tracks.shape)"
   ]
  },
  {
   "cell_type": "code",
   "execution_count": 6,
   "metadata": {
    "collapsed": false
   },
   "outputs": [
    {
     "name": "stdout",
     "output_type": "stream",
     "text": [
      "    track_id  number_pl  value\n",
      "0    1563309        476      1\n",
      "1    1363985        432      1\n",
      "2    3705881        425      1\n",
      "3    1595978        403      1\n",
      "4    3166665        391      1\n",
      "5    3779477        390      1\n",
      "6     204966        387      1\n",
      "7    2863395        370      1\n",
      "8    1580480        349      1\n",
      "9    1156143        346      1\n",
      "10   1321053        339      1\n",
      "11    209196        330      1\n",
      "12    675104        324      1\n",
      "13   3796108        317      1\n",
      "14    276186        315      1\n",
      "15   1074579        307      1\n",
      "16   1286763        306      1\n",
      "17   3628787        306      1\n",
      "18   2339150        306      1\n",
      "19   1495432        304      1\n",
      "(32194, 3)\n"
     ]
    }
   ],
   "source": [
    "tr_agg = pd.DataFrame(train_final.groupby('track_id').playlist_id.nunique())\n",
    "tr_agg.reset_index(level=0, inplace=True)\n",
    "tr_agg.columns = ['track_id', 'number_pl']\n",
    "tr_agg = tr_agg.sort_values('number_pl',ascending=False)\n",
    "tr_agg = tr_agg.merge(target_tracks, on='track_id', how='inner')\n",
    "print(tr_agg[:20])\n",
    "print(tr_agg.shape)"
   ]
  },
  {
   "cell_type": "code",
   "execution_count": 7,
   "metadata": {
    "collapsed": false
   },
   "outputs": [
    {
     "name": "stdout",
     "output_type": "stream",
     "text": [
      "   playlist_id\n",
      "0     10024884\n",
      "1     10624787\n",
      "2      4891851\n",
      "3      4267369\n",
      "4        65078\n",
      "(10000, 1)\n"
     ]
    }
   ],
   "source": [
    "target_playlists = pd.read_csv('../input/target_playlists.csv', sep = '\\t')\n",
    "print(target_playlists.head())\n",
    "print(target_playlists.shape)"
   ]
  },
  {
   "cell_type": "code",
   "execution_count": 11,
   "metadata": {
    "collapsed": false
   },
   "outputs": [
    {
     "name": "stdout",
     "output_type": "stream",
     "text": [
      "(362661, 2)\n",
      "10000\n"
     ]
    }
   ],
   "source": [
    "train = train_final.merge(target_playlists, how='inner', on='playlist_id')\n",
    "print(train.shape)\n",
    "print(train['playlist_id'].nunique())"
   ]
  },
  {
   "cell_type": "code",
   "execution_count": 44,
   "metadata": {
    "collapsed": false
   },
   "outputs": [
    {
     "name": "stdout",
     "output_type": "stream",
     "text": [
      "<class 'pandas.core.series.Series'>\n",
      "playlist_id\n",
      "7614    [2285204, 1384962, 3711434, 1714787, 2141817, ...\n",
      "7692    [3036454, 1439032, 302730, 384386, 1559442, 21...\n",
      "7816    [2305305, 1039409, 2674817, 126414, 2350576, 2...\n",
      "8225    [2285204, 1891198, 3102263, 1464491, 2800858, ...\n",
      "8337    [1210884, 1157460, 1205536, 451881, 3131838, 3...\n",
      "Name: track_id, dtype: object\n",
      "   playlist_id recommend1 recommend2 recommend3 recommend4 recommend5\n",
      "0         7614                                                       \n",
      "1         7692                                                       \n",
      "2         7816                                                       \n",
      "3         8225                                                       \n",
      "4         8337                                                       \n"
     ]
    }
   ],
   "source": [
    "train_agg = train.groupby(by='playlist_id').track_id.apply(list)\n",
    "reco = pd.DataFrame(train_agg.index)\n",
    "reco['recommend1'] = ''\n",
    "reco['recommend2'] = ''\n",
    "reco['recommend3'] = ''\n",
    "reco['recommend4'] = ''\n",
    "reco['recommend5'] = ''\n",
    "print(type(train_agg))\n",
    "print(train_agg.head())\n",
    "print(reco.head())\n"
   ]
  },
  {
   "cell_type": "code",
   "execution_count": 51,
   "metadata": {
    "collapsed": false
   },
   "outputs": [
    {
     "ename": "TypeError",
     "evalue": "'numpy.int64' object is not iterable",
     "output_type": "error",
     "traceback": [
      "\u001b[0;31m---------------------------------------------------------------------------\u001b[0m",
      "\u001b[0;31mTypeError\u001b[0m                                 Traceback (most recent call last)",
      "\u001b[0;32m<ipython-input-51-e2393dc97083>\u001b[0m in \u001b[0;36m<module>\u001b[0;34m()\u001b[0m\n\u001b[1;32m      2\u001b[0m     \u001b[0mcount\u001b[0m \u001b[0;34m=\u001b[0m \u001b[0;36m1\u001b[0m\u001b[0;34m\u001b[0m\u001b[0m\n\u001b[1;32m      3\u001b[0m     \u001b[0;32mfor\u001b[0m \u001b[0mtrack\u001b[0m \u001b[0;32min\u001b[0m \u001b[0mtr_agg\u001b[0m\u001b[0;34m[\u001b[0m\u001b[0;34m'track_id'\u001b[0m\u001b[0;34m]\u001b[0m\u001b[0;34m:\u001b[0m\u001b[0;34m\u001b[0m\u001b[0m\n\u001b[0;32m----> 4\u001b[0;31m         \u001b[0;32mif\u001b[0m \u001b[0mlist\u001b[0m\u001b[0;34m(\u001b[0m\u001b[0mtrack\u001b[0m\u001b[0;34m)\u001b[0m \u001b[0;32mnot\u001b[0m \u001b[0;32min\u001b[0m \u001b[0mplaylist\u001b[0m\u001b[0;34m[\u001b[0m\u001b[0mi\u001b[0m\u001b[0;34m]\u001b[0m \u001b[0;32mand\u001b[0m \u001b[0mcount\u001b[0m \u001b[0;34m<\u001b[0m \u001b[0;36m6\u001b[0m\u001b[0;34m:\u001b[0m\u001b[0;34m\u001b[0m\u001b[0m\n\u001b[0m\u001b[1;32m      5\u001b[0m             \u001b[0mreco\u001b[0m\u001b[0;34m[\u001b[0m\u001b[0mi\u001b[0m\u001b[0;34m,\u001b[0m\u001b[0mcount\u001b[0m\u001b[0;34m]\u001b[0m \u001b[0;34m=\u001b[0m \u001b[0mtrack\u001b[0m\u001b[0;34m[\u001b[0m\u001b[0;34m'track_id'\u001b[0m\u001b[0;34m]\u001b[0m\u001b[0;34m\u001b[0m\u001b[0m\n\u001b[1;32m      6\u001b[0m             \u001b[0mcount\u001b[0m \u001b[0;34m+=\u001b[0m \u001b[0;36m1\u001b[0m\u001b[0;34m\u001b[0m\u001b[0m\n",
      "\u001b[0;31mTypeError\u001b[0m: 'numpy.int64' object is not iterable"
     ]
    }
   ],
   "source": [
    "for i in range(0,10):\n",
    "    count = 1\n",
    "    for track in tr_agg['track_id']:\n",
    "        if track not in playlist[i] and count < 6:\n",
    "            reco[i,count] = track['track_id']\n",
    "            count += 1\n",
    "        elif count >= 6:\n",
    "            break\n",
    "            "
   ]
  },
  {
   "cell_type": "code",
   "execution_count": 52,
   "metadata": {
    "collapsed": false
   },
   "outputs": [
    {
     "name": "stdout",
     "output_type": "stream",
     "text": [
      "   playlist_id                                track_ids\n",
      "0     10024884  1563309 1363985 3705881 1595978 3166665\n",
      "1     10624787  1563309 1363985 3705881 1595978 3166665\n",
      "2      4891851  1563309 1363985 3705881 1595978 3166665\n",
      "3      4267369  1563309 1363985 3705881 1595978 3166665\n",
      "4        65078  1563309 1363985 3705881 1595978 3166665\n"
     ]
    }
   ],
   "source": [
    "target_playlists['track_ids'] = '1563309 1363985 3705881 1595978 3166665'\n",
    "print(target_playlists.head())"
   ]
  },
  {
   "cell_type": "code",
   "execution_count": 54,
   "metadata": {
    "collapsed": true
   },
   "outputs": [],
   "source": [
    "target_playlists.to_csv('toppopular_basic.csv', index=False)"
   ]
  },
  {
   "cell_type": "code",
   "execution_count": null,
   "metadata": {
    "collapsed": true
   },
   "outputs": [],
   "source": []
  }
 ],
 "metadata": {
  "kernelspec": {
   "display_name": "Python 3",
   "language": "python",
   "name": "python3"
  },
  "language_info": {
   "codemirror_mode": {
    "name": "ipython",
    "version": 3
   },
   "file_extension": ".py",
   "mimetype": "text/x-python",
   "name": "python",
   "nbconvert_exporter": "python",
   "pygments_lexer": "ipython3",
   "version": "3.6.0"
  }
 },
 "nbformat": 4,
 "nbformat_minor": 2
}
