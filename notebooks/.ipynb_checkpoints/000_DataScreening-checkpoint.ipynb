{
 "cells": [
  {
   "cell_type": "markdown",
   "metadata": {},
   "source": [
    "# RecSys Competition: Data screening\n",
    "## 2017/18\n",
    "### Author: Moritz Meister\n",
    "---------------------------"
   ]
  },
  {
   "cell_type": "markdown",
   "metadata": {},
   "source": [
    "Import needed libraries:"
   ]
  },
  {
   "cell_type": "code",
   "execution_count": 49,
   "metadata": {
    "collapsed": true
   },
   "outputs": [],
   "source": [
    "import pandas as pd\n",
    "import numpy as np\n",
    "import matplotlib.pyplot as plt\n",
    "import scipy as sp"
   ]
  },
  {
   "cell_type": "markdown",
   "metadata": {},
   "source": [
    "#### Import data:\n",
    "\n",
    "train_final.csv - the training set of interactions"
   ]
  },
  {
   "cell_type": "code",
   "execution_count": 22,
   "metadata": {
    "collapsed": false
   },
   "outputs": [
    {
     "name": "stdout",
     "output_type": "stream",
     "text": [
      "   playlist_id  track_id\n",
      "0      3271849   2801526\n",
      "1      5616275    727878\n",
      "2     11267488   2805283\n",
      "3     10103900   1515105\n",
      "4      3836898   2945623\n",
      "(1040522, 2)\n"
     ]
    },
    {
     "data": {
      "text/plain": [
       "45649"
      ]
     },
     "execution_count": 22,
     "metadata": {},
     "output_type": "execute_result"
    }
   ],
   "source": [
    "train_final = pd.read_csv('../input/train_final.csv', sep = '\\t')\n",
    "print(train_final.head())\n",
    "print(train_final.shape)\n",
    "train_final['playlist_id'].nunique()"
   ]
  },
  {
   "cell_type": "code",
   "execution_count": 65,
   "metadata": {
    "collapsed": false,
    "scrolled": true
   },
   "outputs": [
    {
     "name": "stdout",
     "output_type": "stream",
     "text": [
      "<class 'pandas.core.frame.DataFrame'>\n",
      "             track_id\n",
      "playlist_id          \n",
      "7569                9\n",
      "7614               11\n",
      "7641                8\n",
      "7692               43\n",
      "7816               30\n",
      "22.793971390391903\n",
      "<class 'pandas.core.series.Series'>\n",
      "1    3185\n",
      "2    3551\n",
      "3    2974\n",
      "4    2395\n",
      "5    2761\n",
      "Name: track_id, dtype: int64\n",
      "(197,)\n"
     ]
    }
   ],
   "source": [
    "# count songs in playlists\n",
    "pl_agg = pd.DataFrame(train_final.groupby('playlist_id').track_id.nunique())\n",
    "#pl_agg.columns = ['unique_tracks']\n",
    "print(type(pl_agg))\n",
    "print(pl_agg.head())\n",
    "print(pl_agg['track_id'].mean())\n",
    "\n",
    "# aggregate on number of tracks in playlist\n",
    "tracks_in_playlist_dist = pl_agg['track_id'].value_counts().sort_index()\n",
    "print(type(tracks_in_playlist_dist))\n",
    "print(tracks_in_playlist_dist.head())\n",
    "print(tracks_in_playlist_dist.shape)\n"
   ]
  },
  {
   "cell_type": "code",
   "execution_count": 59,
   "metadata": {
    "collapsed": false
   },
   "outputs": [
    {
     "data": {
      "image/png": "[encoded data removed]",
      "text/plain": [
       "<matplotlib.figure.Figure at 0x10f40d400>"
      ]
     },
     "metadata": {},
     "output_type": "display_data"
    }
   ],
   "source": [
    "fig=plt.figure(figsize=(16, 10), dpi= 80, facecolor='w', edgecolor='k')\n",
    "tracks_in_playlist_dist.plot(kind='bar')\n",
    "plt.show()"
   ]
  },
  {
   "cell_type": "markdown",
   "metadata": {},
   "source": [
    "tracks_final.csv - supplementary information about the items"
   ]
  },
  {
   "cell_type": "code",
   "execution_count": 21,
   "metadata": {
    "collapsed": false
   },
   "outputs": [
    {
     "name": "stdout",
     "output_type": "stream",
     "text": [
      "   track_id  artist_id  duration  playcount   album  \\\n",
      "0   2972914        144    224000       49.0     [7]   \n",
      "1   2750239        246    157000        1.0     [8]   \n",
      "2   1550729        144    217000      554.0     [9]   \n",
      "3   2169950        144    207000      200.0     [9]   \n",
      "4   1903709        144    198000        5.0  [None]   \n",
      "\n",
      "                                     tags  \n",
      "0     [54087, 1757, 1718, 116712, 189631]  \n",
      "1   [189631, 3424, 177424, 46208, 205245]  \n",
      "2   [54087, 109806, 46869, 183258, 54337]  \n",
      "3  [54087, 70618, 207003, 109806, 116712]  \n",
      "4   [54087, 81223, 116712, 215342, 71028]  \n",
      "(100000, 6)\n"
     ]
    }
   ],
   "source": [
    "tracks_final = pd.read_csv('../input/tracks_final.csv', sep = '\\t')\n",
    "print(tracks_final.head())\n",
    "print(tracks_final.shape)"
   ]
  },
  {
   "cell_type": "markdown",
   "metadata": {},
   "source": [
    "target_tracks.csv - the set of target items (tracks) to be recommended"
   ]
  },
  {
   "cell_type": "code",
   "execution_count": 16,
   "metadata": {
    "collapsed": false
   },
   "outputs": [
    {
     "name": "stdout",
     "output_type": "stream",
     "text": [
      "   track_id\n",
      "0   1316175\n",
      "1   3885714\n",
      "2   3091270\n",
      "3    226759\n",
      "4    230596\n",
      "(32195, 1)\n"
     ]
    }
   ],
   "source": [
    "target_tracks = pd.read_csv('../input/target_tracks.csv', sep = '\\t')\n",
    "print(target_tracks.head())\n",
    "print(target_tracks.shape)"
   ]
  },
  {
   "cell_type": "markdown",
   "metadata": {},
   "source": [
    "target_playlists.csv - the set of target playlists that will receive recommendations"
   ]
  },
  {
   "cell_type": "code",
   "execution_count": 17,
   "metadata": {
    "collapsed": false
   },
   "outputs": [
    {
     "name": "stdout",
     "output_type": "stream",
     "text": [
      "   playlist_id\n",
      "0     10024884\n",
      "1     10624787\n",
      "2      4891851\n",
      "3      4267369\n",
      "4        65078\n",
      "(10000, 1)\n"
     ]
    }
   ],
   "source": [
    "target_playlists = pd.read_csv('../input/target_playlists.csv', sep = '\\t')\n",
    "print(target_playlists.head())\n",
    "print(target_playlists.shape)"
   ]
  },
  {
   "cell_type": "markdown",
   "metadata": {},
   "source": [
    "playlists_final.csv - supplementary information about the users"
   ]
  },
  {
   "cell_type": "code",
   "execution_count": 20,
   "metadata": {
    "collapsed": false
   },
   "outputs": [
    {
     "name": "stdout",
     "output_type": "stream",
     "text": [
      "   created_at  playlist_id                                             title  \\\n",
      "0  1216545588       644838                                           [12727]   \n",
      "1  1249326867      7577564                                                []   \n",
      "2  1257766688      3120683                                             [183]   \n",
      "3  1248079275      4278112                [12389, 18698, 18925, 11695, 7117]   \n",
      "4  1175201268      8656823  [12809, 2095, 13257, 12671, 20426, 14448, 18698]   \n",
      "\n",
      "   numtracks  duration  owner  \n",
      "0         27      6522  41504  \n",
      "1          9      2650  41504  \n",
      "2         16      3645  44542  \n",
      "3         15      4151  44542  \n",
      "4         84     18414  44542  \n",
      "(57561, 6)\n"
     ]
    }
   ],
   "source": [
    "playlists_final = pd.read_csv('../input/playlists_final.csv', sep = '\\t')\n",
    "print(playlists_final.head())\n",
    "print(playlists_final.shape)"
   ]
  },
  {
   "cell_type": "code",
   "execution_count": null,
   "metadata": {
    "collapsed": true
   },
   "outputs": [],
   "source": []
  }
 ],
 "metadata": {
  "kernelspec": {
   "display_name": "Python 3",
   "language": "python",
   "name": "python3"
  },
  "language_info": {
   "codemirror_mode": {
    "name": "ipython",
    "version": 3
   },
   "file_extension": ".py",
   "mimetype": "text/x-python",
   "name": "python",
   "nbconvert_exporter": "python",
   "pygments_lexer": "ipython3",
   "version": "3.6.0"
  }
 },
 "nbformat": 4,
 "nbformat_minor": 2
}
