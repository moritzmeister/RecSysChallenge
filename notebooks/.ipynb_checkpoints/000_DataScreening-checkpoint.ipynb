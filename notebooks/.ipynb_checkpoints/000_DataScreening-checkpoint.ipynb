{
 "cells": [
  {
   "cell_type": "markdown",
   "metadata": {},
   "source": [
    "# RecSys Competition: Data screening\n",
    "## 2017/18\n",
    "### Author: Moritz Meister\n",
    "---------------------------"
   ]
  },
  {
   "cell_type": "code",
   "execution_count": 1,
   "metadata": {
    "collapsed": true
   },
   "outputs": [],
   "source": [
    "import pandas as pd\n",
    "import numpy as np"
   ]
  },
  {
   "cell_type": "markdown",
   "metadata": {},
   "source": [
    "### Import data:\n",
    "\n",
    "train_final.csv - the training set of interactions"
   ]
  },
  {
   "cell_type": "code",
   "execution_count": 2,
   "metadata": {
    "collapsed": false
   },
   "outputs": [
    {
     "name": "stdout",
     "output_type": "stream",
     "text": [
      "   playlist_id  track_id\n",
      "0      3271849   2801526\n",
      "1      5616275    727878\n",
      "2     11267488   2805283\n",
      "3     10103900   1515105\n",
      "4      3836898   2945623\n",
      "(1040522, 2)\n"
     ]
    }
   ],
   "source": [
    "train_final = pd.read_csv('../input/train_final.csv', sep = '\\t')\n",
    "print(train_final.head())\n",
    "print(train_final.shape)"
   ]
  },
  {
   "cell_type": "markdown",
   "metadata": {},
   "source": [
    "tracks_final.csv - supplementary information about the items"
   ]
  },
  {
   "cell_type": "code",
   "execution_count": 3,
   "metadata": {
    "collapsed": false
   },
   "outputs": [
    {
     "name": "stdout",
     "output_type": "stream",
     "text": [
      "   track_id  artist_id  duration  playcount   album  \\\n",
      "0   2972914        144    224000       49.0     [7]   \n",
      "1   2750239        246    157000        1.0     [8]   \n",
      "2   1550729        144    217000      554.0     [9]   \n",
      "3   2169950        144    207000      200.0     [9]   \n",
      "4   1903709        144    198000        5.0  [None]   \n",
      "\n",
      "                                     tags  \n",
      "0     [54087, 1757, 1718, 116712, 189631]  \n",
      "1   [189631, 3424, 177424, 46208, 205245]  \n",
      "2   [54087, 109806, 46869, 183258, 54337]  \n",
      "3  [54087, 70618, 207003, 109806, 116712]  \n",
      "4   [54087, 81223, 116712, 215342, 71028]  \n",
      "(100000, 6)\n"
     ]
    }
   ],
   "source": [
    "tracks_final = pd.read_csv('../input/tracks_final.csv', sep = '\\t')\n",
    "print(tracks_final.head())\n",
    "print(tracks_final.shape)"
   ]
  },
  {
   "cell_type": "markdown",
   "metadata": {},
   "source": [
    "target_tracks.csv - the set of target items (tracks) to be recommended"
   ]
  },
  {
   "cell_type": "code",
   "execution_count": 4,
   "metadata": {
    "collapsed": false
   },
   "outputs": [
    {
     "name": "stdout",
     "output_type": "stream",
     "text": [
      "   track_id\n",
      "0   1316175\n",
      "1   3885714\n",
      "2   3091270\n",
      "3    226759\n",
      "4    230596\n",
      "(32195, 1)\n"
     ]
    }
   ],
   "source": [
    "target_tracks = pd.read_csv('../input/target_tracks.csv', sep = '\\t')\n",
    "print(target_tracks.head())\n",
    "print(target_tracks.shape)"
   ]
  },
  {
   "cell_type": "markdown",
   "metadata": {},
   "source": [
    "target_playlists.csv - the set of target playlists that will receive recommendations"
   ]
  },
  {
   "cell_type": "code",
   "execution_count": 5,
   "metadata": {
    "collapsed": false
   },
   "outputs": [
    {
     "name": "stdout",
     "output_type": "stream",
     "text": [
      "   playlist_id\n",
      "0     10024884\n",
      "1     10624787\n",
      "2      4891851\n",
      "3      4267369\n",
      "4        65078\n",
      "(10000, 1)\n"
     ]
    }
   ],
   "source": [
    "target_playlists = pd.read_csv('../input/target_playlists.csv', sep = '\\t')\n",
    "print(target_playlists.head())\n",
    "print(target_playlists.shape)"
   ]
  },
  {
   "cell_type": "markdown",
   "metadata": {},
   "source": [
    "playlists_final.csv - supplementary information about the users"
   ]
  },
  {
   "cell_type": "code",
   "execution_count": 6,
   "metadata": {
    "collapsed": false
   },
   "outputs": [
    {
     "name": "stdout",
     "output_type": "stream",
     "text": [
      "   created_at  playlist_id                                             title  \\\n",
      "0  1216545588       644838                                           [12727]   \n",
      "1  1249326867      7577564                                                []   \n",
      "2  1257766688      3120683                                             [183]   \n",
      "3  1248079275      4278112                [12389, 18698, 18925, 11695, 7117]   \n",
      "4  1175201268      8656823  [12809, 2095, 13257, 12671, 20426, 14448, 18698]   \n",
      "\n",
      "   numtracks  duration  owner  \n",
      "0         27      6522  41504  \n",
      "1          9      2650  41504  \n",
      "2         16      3645  44542  \n",
      "3         15      4151  44542  \n",
      "4         84     18414  44542  \n",
      "(57561, 6)\n"
     ]
    }
   ],
   "source": [
    "playlists_final = pd.read_csv('../input/playlists_final.csv', sep = '\\t')\n",
    "print(playlists_final.head())\n",
    "print(playlists_final.shape)"
   ]
  },
  {
   "cell_type": "markdown",
   "metadata": {
    "collapsed": true
   },
   "source": [
    "### Analysis of train_final:"
   ]
  },
  {
   "cell_type": "markdown",
   "metadata": {},
   "source": [
    "Size of the DataFrame:"
   ]
  },
  {
   "cell_type": "code",
   "execution_count": 7,
   "metadata": {
    "collapsed": false
   },
   "outputs": [
    {
     "name": "stdout",
     "output_type": "stream",
     "text": [
      "(1040522, 2)\n"
     ]
    }
   ],
   "source": [
    "print(train_final.shape)"
   ]
  },
  {
   "cell_type": "markdown",
   "metadata": {},
   "source": [
    "Check for duplicates:"
   ]
  },
  {
   "cell_type": "code",
   "execution_count": 8,
   "metadata": {
    "collapsed": false
   },
   "outputs": [
    {
     "name": "stdout",
     "output_type": "stream",
     "text": [
      "(1040522, 2)\n"
     ]
    }
   ],
   "source": [
    "print(train_final.drop_duplicates().shape)"
   ]
  },
  {
   "cell_type": "markdown",
   "metadata": {},
   "source": [
    "-> No duplicates! Also means there is no Playlist with the same track twice in it."
   ]
  },
  {
   "cell_type": "markdown",
   "metadata": {},
   "source": [
    "Number of unique playlists:"
   ]
  },
  {
   "cell_type": "code",
   "execution_count": 9,
   "metadata": {
    "collapsed": false
   },
   "outputs": [
    {
     "name": "stdout",
     "output_type": "stream",
     "text": [
      "45649\n",
      "22.793971390391903\n"
     ]
    }
   ],
   "source": [
    "print(train_final['playlist_id'].nunique())\n",
    "print(train_final.shape[0]/train_final['playlist_id'].nunique())"
   ]
  },
  {
   "cell_type": "markdown",
   "metadata": {},
   "source": [
    "Each playlist contains 22.79 tracks on average."
   ]
  },
  {
   "cell_type": "markdown",
   "metadata": {},
   "source": [
    "Number of unique tracks in these playlists:"
   ]
  },
  {
   "cell_type": "code",
   "execution_count": 10,
   "metadata": {
    "collapsed": false
   },
   "outputs": [
    {
     "name": "stdout",
     "output_type": "stream",
     "text": [
      "99999\n"
     ]
    }
   ],
   "source": [
    "print(train_final['track_id'].nunique())"
   ]
  },
  {
   "cell_type": "markdown",
   "metadata": {},
   "source": [
    "That means a Playlist/Track frequency matrix would have 4.564.854.351 elements - of which only 1.040.522 are non-zero.\n",
    "\n",
    "Count songs in each playlist:"
   ]
  },
  {
   "cell_type": "code",
   "execution_count": 11,
   "metadata": {
    "collapsed": false
   },
   "outputs": [
    {
     "name": "stdout",
     "output_type": "stream",
     "text": [
      "count    45649.000000\n",
      "mean        22.793971\n",
      "std         32.141616\n",
      "min          1.000000\n",
      "25%          4.000000\n",
      "50%          9.000000\n",
      "75%         26.000000\n",
      "max        199.000000\n",
      "Name: track_count, dtype: float64\n"
     ]
    }
   ],
   "source": [
    "pl_agg = pd.DataFrame(train_final.groupby('playlist_id').track_id.nunique())\n",
    "pl_agg.reset_index(level=0, inplace=True)\n",
    "pl_agg.columns = ['playlist_id', 'track_count']\n",
    "print(pl_agg['track_count'].describe())"
   ]
  },
  {
   "cell_type": "markdown",
   "metadata": {},
   "source": [
    "Find distribution of playlist size in terms of tracks in it:"
   ]
  },
  {
   "cell_type": "code",
   "execution_count": 12,
   "metadata": {
    "collapsed": false
   },
   "outputs": [
    {
     "name": "stdout",
     "output_type": "stream",
     "text": [
      "     pl_size  number_pl\n",
      "0          2       3551\n",
      "1          1       3185\n",
      "2          3       2974\n",
      "3          5       2761\n",
      "4          6       2472\n",
      "5          4       2395\n",
      "6          7       2224\n",
      "7          8       2044\n",
      "8          9       1940\n",
      "9         10       1218\n",
      "10        11       1089\n",
      "11        12        988\n",
      "12        13        885\n",
      "13        14        801\n",
      "14        15        767\n",
      "15        16        669\n",
      "16        17        607\n",
      "17        18        529\n",
      "18        19        499\n",
      "19        20        479\n",
      "20        21        456\n",
      "21        22        400\n",
      "22        23        386\n",
      "23        25        362\n",
      "24        24        339\n",
      "25        26        321\n",
      "26        28        313\n",
      "27        30        286\n",
      "28        27        285\n",
      "29        29        280\n",
      "..       ...        ...\n",
      "167      171         13\n",
      "168      166         12\n",
      "169      177         12\n",
      "170      172         11\n",
      "171      164         11\n",
      "172      170         10\n",
      "173      167         10\n",
      "174      162          9\n",
      "175      180          8\n",
      "176      183          8\n",
      "177      174          7\n",
      "178      175          7\n",
      "179      179          7\n",
      "180      186          5\n",
      "181      190          4\n",
      "182      185          4\n",
      "183      184          4\n",
      "184      178          3\n",
      "185      192          3\n",
      "186      181          3\n",
      "187      193          3\n",
      "188      195          3\n",
      "189      187          3\n",
      "190      191          3\n",
      "191      197          2\n",
      "192      182          2\n",
      "193      198          2\n",
      "194      188          1\n",
      "195      196          1\n",
      "196      199          1\n",
      "\n",
      "[197 rows x 2 columns]\n"
     ]
    }
   ],
   "source": [
    "plsize_dist = pd.DataFrame(pl_agg['track_count'].value_counts())\n",
    "plsize_dist.reset_index(level=0, inplace=True)\n",
    "plsize_dist.columns = ['pl_size', 'number_pl']\n",
    "print(plsize_dist)"
   ]
  },
  {
   "cell_type": "markdown",
   "metadata": {},
   "source": [
    "Find the most popular tracks in terms of number of playlists they are in:"
   ]
  },
  {
   "cell_type": "code",
   "execution_count": 13,
   "metadata": {
    "collapsed": false
   },
   "outputs": [
    {
     "name": "stdout",
     "output_type": "stream",
     "text": [
      "       track_id  number_pl\n",
      "38111   1563309        476\n",
      "33725   1363985        432\n",
      "94748   3705881        425\n",
      "38860   1595978        403\n",
      "82528   3166665        391\n",
      "96651   3779477        390\n",
      "5020     204966        387\n",
      "73719   2863395        370\n",
      "38517   1580480        349\n",
      "28189   1156143        346\n",
      "32541   1321053        339\n",
      "5167     209196        330\n",
      "17830    675104        324\n",
      "97203   3796108        317\n",
      "6847     276186        315\n",
      "25754   1074579        307\n",
      "31886   1286763        306\n",
      "92927   3628787        306\n",
      "58901   2339150        306\n",
      "36483   1495432        304\n",
      "(99999, 2)\n"
     ]
    }
   ],
   "source": [
    "tr_agg = pd.DataFrame(train_final.groupby('track_id').playlist_id.nunique())\n",
    "tr_agg.reset_index(level=0, inplace=True)\n",
    "tr_agg.columns = ['track_id', 'number_pl']\n",
    "tr_agg = tr_agg.sort_values('number_pl',ascending=False)\n",
    "print(tr_agg[:20])\n",
    "print(tr_agg.shape)"
   ]
  },
  {
   "cell_type": "markdown",
   "metadata": {
    "collapsed": false
   },
   "source": [
    "### Analysis of target_tracks\n",
    "\n",
    "Tracks to be recommended."
   ]
  },
  {
   "cell_type": "markdown",
   "metadata": {},
   "source": [
    "Check size of DataFrame and check for duplicates:"
   ]
  },
  {
   "cell_type": "code",
   "execution_count": 14,
   "metadata": {
    "collapsed": false
   },
   "outputs": [
    {
     "name": "stdout",
     "output_type": "stream",
     "text": [
      "   track_id\n",
      "0   1316175\n",
      "1   3885714\n",
      "2   3091270\n",
      "3    226759\n",
      "4    230596\n",
      "(32195, 1)\n",
      "(32195, 1)\n"
     ]
    }
   ],
   "source": [
    "print(target_tracks.head())\n",
    "print(target_tracks.shape)\n",
    "print(target_tracks.drop_duplicates().shape)"
   ]
  },
  {
   "cell_type": "markdown",
   "metadata": {
    "collapsed": false
   },
   "source": [
    "Check if all target tracks are in at least one playlist:"
   ]
  },
  {
   "cell_type": "code",
   "execution_count": 15,
   "metadata": {
    "collapsed": false
   },
   "outputs": [
    {
     "name": "stdout",
     "output_type": "stream",
     "text": [
      "   track_id  dummy\n",
      "0   1316175      1\n",
      "1   3885714      1\n",
      "2   3091270      1\n",
      "3    226759      1\n",
      "4    230596      1\n"
     ]
    }
   ],
   "source": [
    "target_tracks['dummy'] = 1\n",
    "print(target_tracks.head())"
   ]
  },
  {
   "cell_type": "code",
   "execution_count": 16,
   "metadata": {
    "collapsed": false
   },
   "outputs": [
    {
     "name": "stdout",
     "output_type": "stream",
     "text": [
      "(32194, 3)\n"
     ]
    }
   ],
   "source": [
    "tr_agg_target = target_tracks.merge(tr_agg, how='inner', on='track_id')\n",
    "print(tr_agg_target.shape)"
   ]
  },
  {
   "cell_type": "markdown",
   "metadata": {},
   "source": [
    "This means one of the target songs is in no playlist, probably just need to remove it.\n",
    "\n",
    "Check how many target songs are contained in each playlist:"
   ]
  },
  {
   "cell_type": "code",
   "execution_count": 24,
   "metadata": {
    "collapsed": false
   },
   "outputs": [
    {
     "name": "stdout",
     "output_type": "stream",
     "text": [
      "(1040522, 3)\n",
      "   playlist_id  track_id  dummy\n",
      "0      3271849   2801526    1.0\n",
      "1      5616275    727878    1.0\n",
      "2     11267488   2805283    0.0\n",
      "3     10103900   1515105    0.0\n",
      "4      3836898   2945623    0.0\n"
     ]
    }
   ],
   "source": [
    "test = train_final.merge(target_tracks, how='left', on='track_id')\n",
    "test = test.fillna(0)\n",
    "print(test.shape)\n",
    "print(test.head())"
   ]
  },
  {
   "cell_type": "code",
   "execution_count": 38,
   "metadata": {
    "collapsed": false
   },
   "outputs": [
    {
     "name": "stdout",
     "output_type": "stream",
     "text": [
      "(10000, 3)\n",
      "      playlist_id  nunique    sum\n",
      "0            7614       11    4.0\n",
      "1            7692       43   14.0\n",
      "2            7816       30   10.0\n",
      "3            8225       40   29.0\n",
      "4            8337        6    4.0\n",
      "5            8369        9    4.0\n",
      "6            8446       62   25.0\n",
      "7            8559        6    5.0\n",
      "8            8636       67   41.0\n",
      "9            9344       17    6.0\n",
      "10           9444       94   48.0\n",
      "11          10050       32   23.0\n",
      "12          10732       61   29.0\n",
      "13          11314       38   20.0\n",
      "14          12268      102   42.0\n",
      "15          13164       78   48.0\n",
      "16          13957        6    4.0\n",
      "17          14097        9    6.0\n",
      "18          14632        7    3.0\n",
      "19          14952       12    4.0\n",
      "20          15069       43   14.0\n",
      "21          15761       29   13.0\n",
      "22          15791        8    3.0\n",
      "23          16022       61   27.0\n",
      "24          16226        5    1.0\n",
      "25          16923       20   11.0\n",
      "26          17129       21    5.0\n",
      "27          17136       33   20.0\n",
      "28          18357       74   50.0\n",
      "29          19159        6    3.0\n",
      "...           ...      ...    ...\n",
      "9970     11745754       19    7.0\n",
      "9971     11746230       12    0.0\n",
      "9972     11746321       72   41.0\n",
      "9973     11746648        5    1.0\n",
      "9974     11746847        5    3.0\n",
      "9975     11747192       67   45.0\n",
      "9976     11747577       34   11.0\n",
      "9977     11748030      104   40.0\n",
      "9978     11749065        7    1.0\n",
      "9979     11750413      160  107.0\n",
      "9980     11751707       62   36.0\n",
      "9981     11756453        5    2.0\n",
      "9982     11756978       68   40.0\n",
      "9983     11757152        6    3.0\n",
      "9984     11757993       34   11.0\n",
      "9985     11758192       58   38.0\n",
      "9986     11758194       13    6.0\n",
      "9987     11758534       98   40.0\n",
      "9988     11759272       14    7.0\n",
      "9989     11760554       63   36.0\n",
      "9990     11761318        5    4.0\n",
      "9991     11761351        9    4.0\n",
      "9992     11761555       16   12.0\n",
      "9993     11762181        6    4.0\n",
      "9994     11762595      133   73.0\n",
      "9995     11764027      139   91.0\n",
      "9996     11764851       60   30.0\n",
      "9997     11765404       12    6.0\n",
      "9998     11765405        6    2.0\n",
      "9999     11766362       13    5.0\n",
      "\n",
      "[10000 rows x 3 columns]\n"
     ]
    }
   ],
   "source": [
    "f = {'track_id': ['nunique'], 'dummy': ['sum']}\n",
    "playlist = pd.DataFrame(test.groupby('playlist_id').agg(f))\n",
    "playlist.reset_index(level=0, inplace=True)\n",
    "playlist.columns = ['playlist_id', 'nunique', 'sum']\n",
    "playlist2 = playlist.merge(target_playlists, how='inner', on='playlist_id')\n",
    "print(playlist2.shape)\n",
    "print(playlist2)"
   ]
  },
  {
   "cell_type": "code",
   "execution_count": 31,
   "metadata": {
    "collapsed": false
   },
   "outputs": [
    {
     "data": {
      "text/html": [
       "<div>\n",
       "<table border=\"1\" class=\"dataframe\">\n",
       "  <thead>\n",
       "    <tr style=\"text-align: right;\">\n",
       "      <th></th>\n",
       "      <th>playlist_id</th>\n",
       "      <th>track_id</th>\n",
       "    </tr>\n",
       "  </thead>\n",
       "  <tbody>\n",
       "    <tr>\n",
       "      <th>89562</th>\n",
       "      <td>7641</td>\n",
       "      <td>3825235</td>\n",
       "    </tr>\n",
       "    <tr>\n",
       "      <th>349687</th>\n",
       "      <td>7641</td>\n",
       "      <td>257968</td>\n",
       "    </tr>\n",
       "    <tr>\n",
       "      <th>408259</th>\n",
       "      <td>7641</td>\n",
       "      <td>3711129</td>\n",
       "    </tr>\n",
       "    <tr>\n",
       "      <th>748389</th>\n",
       "      <td>7641</td>\n",
       "      <td>1341128</td>\n",
       "    </tr>\n",
       "    <tr>\n",
       "      <th>766015</th>\n",
       "      <td>7641</td>\n",
       "      <td>3502548</td>\n",
       "    </tr>\n",
       "    <tr>\n",
       "      <th>870455</th>\n",
       "      <td>7641</td>\n",
       "      <td>251674</td>\n",
       "    </tr>\n",
       "    <tr>\n",
       "      <th>909973</th>\n",
       "      <td>7641</td>\n",
       "      <td>813563</td>\n",
       "    </tr>\n",
       "    <tr>\n",
       "      <th>988979</th>\n",
       "      <td>7641</td>\n",
       "      <td>1446467</td>\n",
       "    </tr>\n",
       "  </tbody>\n",
       "</table>\n",
       "</div>"
      ],
      "text/plain": [
       "        playlist_id  track_id\n",
       "89562          7641   3825235\n",
       "349687         7641    257968\n",
       "408259         7641   3711129\n",
       "748389         7641   1341128\n",
       "766015         7641   3502548\n",
       "870455         7641    251674\n",
       "909973         7641    813563\n",
       "988979         7641   1446467"
      ]
     },
     "execution_count": 31,
     "metadata": {},
     "output_type": "execute_result"
    }
   ],
   "source": [
    "train_final[train_final['playlist_id'] == 7641]"
   ]
  },
  {
   "cell_type": "markdown",
   "metadata": {},
   "source": [
    "### Analysis of target_playlists:"
   ]
  },
  {
   "cell_type": "markdown",
   "metadata": {},
   "source": [
    "Check size of DataFrame and check for duplicates:"
   ]
  },
  {
   "cell_type": "code",
   "execution_count": 57,
   "metadata": {
    "collapsed": false
   },
   "outputs": [
    {
     "name": "stdout",
     "output_type": "stream",
     "text": [
      "   playlist_id\n",
      "0     10024884\n",
      "1     10624787\n",
      "2      4891851\n",
      "3      4267369\n",
      "4        65078\n",
      "(10000, 1)\n",
      "(10000, 1)\n"
     ]
    }
   ],
   "source": [
    "print(target_playlists.head())\n",
    "print(target_playlists.shape)\n",
    "print(target_playlists.drop_duplicates().shape)"
   ]
  },
  {
   "cell_type": "code",
   "execution_count": 61,
   "metadata": {
    "collapsed": false
   },
   "outputs": [
    {
     "name": "stdout",
     "output_type": "stream",
     "text": [
      "   playlist_id  dummy\n",
      "0     10024884      1\n",
      "1     10624787      1\n",
      "2      4891851      1\n",
      "3      4267369      1\n",
      "4        65078      1\n"
     ]
    }
   ],
   "source": [
    "target_playlists['dummy'] = 1\n",
    "print(target_playlists.head())"
   ]
  },
  {
   "cell_type": "markdown",
   "metadata": {},
   "source": [
    "Check if target playlists are contained in the training playlists:"
   ]
  },
  {
   "cell_type": "code",
   "execution_count": 62,
   "metadata": {
    "collapsed": false
   },
   "outputs": [
    {
     "name": "stdout",
     "output_type": "stream",
     "text": [
      "(10000, 3)\n",
      "   playlist_id  dummy  track_count\n",
      "0     10024884      1           66\n",
      "1     10624787      1           38\n",
      "2      4891851      1           24\n",
      "3      4267369      1           80\n",
      "4        65078      1           91\n"
     ]
    }
   ],
   "source": [
    "pl_agg_target = target_playlists.merge(pl_agg, how='inner', on='playlist_id')\n",
    "print(pl_agg_target.shape)\n",
    "print(pl_agg_target.head())"
   ]
  },
  {
   "cell_type": "markdown",
   "metadata": {},
   "source": [
    "All target playlists are contained in the training set."
   ]
  }
 ],
 "metadata": {
  "kernelspec": {
   "display_name": "Python 3",
   "language": "python",
   "name": "python3"
  },
  "language_info": {
   "codemirror_mode": {
    "name": "ipython",
    "version": 3
   },
   "file_extension": ".py",
   "mimetype": "text/x-python",
   "name": "python",
   "nbconvert_exporter": "python",
   "pygments_lexer": "ipython3",
   "version": "3.6.0"
  }
 },
 "nbformat": 4,
 "nbformat_minor": 2
}
